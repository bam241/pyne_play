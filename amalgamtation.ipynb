{
 "cells": [
  {
   "cell_type": "code",
   "execution_count": 1,
   "metadata": {},
   "outputs": [],
   "source": [
    "import sys\n",
    "sys.path.append('/Users/mouginot/work/app/pyne/')"
   ]
  },
  {
   "cell_type": "code",
   "execution_count": 2,
   "metadata": {},
   "outputs": [],
   "source": [
    "import amalgamate"
   ]
  },
  {
   "cell_type": "code",
   "execution_count": 3,
   "metadata": {},
   "outputs": [
    {
     "name": "stdout",
     "output_type": "stream",
     "text": [
      "['license.txt', 'src/utils.h', 'src/utils.cpp', 'src/extra_types.h', 'src/h5wrap.h', 'src/state_map.cpp', 'src/nucname.h', 'src/nucname.cpp', 'src/rxname.h', 'src/rxname.cpp', 'src/_atomic_data.h', 'src/_atomic_data.cpp', 'src/data.h', 'src/data.cpp', 'src/json-forwards.h', 'src/json.h', 'src/jsoncpp.cpp', 'src/jsoncustomwriter.h', 'src/jsoncustomwriter.cpp', 'src/material.h', 'src/material.cpp', 'src/enrichment_cascade.h', 'src/enrichment_cascade.cpp', 'src/enrichment.h', 'src/enrichment.cpp', 'src/enrichment_symbolic.h', 'src/enrichment_symbolic20.cpp', 'src/_decay.h', 'src/_decay.cpp']\n"
     ]
    }
   ],
   "source": [
    "print(amalgamate.DEFAULT_FILES)"
   ]
  },
  {
   "cell_type": "code",
   "execution_count": null,
   "metadata": {},
   "outputs": [],
   "source": []
  },
  {
   "cell_type": "code",
   "execution_count": 4,
   "metadata": {},
   "outputs": [
    {
     "name": "stdout",
     "output_type": "stream",
     "text": [
      "['/Users/mouginot/work/app/pyne/license.txt', '/Users/mouginot/work/app/pyne/src/utils.h', '/Users/mouginot/work/app/pyne/src/utils.cpp', '/Users/mouginot/work/app/pyne/src/extra_types.h', '/Users/mouginot/work/app/pyne/src/h5wrap.h', '/Users/mouginot/work/app/pyne/src/state_map.cpp', '/Users/mouginot/work/app/pyne/src/nucname.h', '/Users/mouginot/work/app/pyne/src/nucname.cpp', '/Users/mouginot/work/app/pyne/src/rxname.h', '/Users/mouginot/work/app/pyne/src/rxname.cpp', '/Users/mouginot/work/app/pyne/src/_atomic_data.h', '/Users/mouginot/work/app/pyne/src/_atomic_data.cpp', '/Users/mouginot/work/app/pyne/src/data.h', '/Users/mouginot/work/app/pyne/src/data.cpp', '/Users/mouginot/work/app/pyne/src/json-forwards.h', '/Users/mouginot/work/app/pyne/src/json.h', '/Users/mouginot/work/app/pyne/src/jsoncpp.cpp', '/Users/mouginot/work/app/pyne/src/jsoncustomwriter.h', '/Users/mouginot/work/app/pyne/src/jsoncustomwriter.cpp', '/Users/mouginot/work/app/pyne/src/material.h', '/Users/mouginot/work/app/pyne/src/material.cpp', '/Users/mouginot/work/app/pyne/src/enrichment_cascade.h', '/Users/mouginot/work/app/pyne/src/enrichment_cascade.cpp', '/Users/mouginot/work/app/pyne/src/enrichment.h', '/Users/mouginot/work/app/pyne/src/enrichment.cpp', '/Users/mouginot/work/app/pyne/src/enrichment_symbolic.h', '/Users/mouginot/work/app/pyne/src/enrichment_symbolic20.cpp', '/Users/mouginot/work/app/pyne/src/_decay.h', '/Users/mouginot/work/app/pyne/src/_decay.cpp', '/Users/mouginot/work/app/pyne/src/tally.cpp', '/Users/mouginot/work/app/pyne/src/tally.h']\n"
     ]
    }
   ],
   "source": [
    "file_list = amalgamate.DEFAULT_FILES\n",
    "\n",
    "\n",
    "file_list.append('src/tally.cpp')\n",
    "file_list.append('src/tally.h')\n",
    "for i, file in enumerate(file_list):\n",
    "    file_list[i] = '/Users/mouginot/work/app/pyne/' + file\n",
    "print(file_list)"
   ]
  },
  {
   "cell_type": "code",
   "execution_count": 9,
   "metadata": {},
   "outputs": [],
   "source": [
    "files_arg = ''\n",
    "for file in file_list:\n",
    "    files_arg += file + ' '\n",
    "sys.argv = ['-f '+files_arg]\n",
    "\n",
    "amalgamate.main()"
   ]
  },
  {
   "cell_type": "code",
   "execution_count": 6,
   "metadata": {},
   "outputs": [
    {
     "name": "stdout",
     "output_type": "stream",
     "text": [
      "Untitled.ipynb  pyne.cpp        pyne.h\n"
     ]
    }
   ],
   "source": [
    "ls"
   ]
  },
  {
   "cell_type": "code",
   "execution_count": null,
   "metadata": {},
   "outputs": [],
   "source": []
  },
  {
   "cell_type": "code",
   "execution_count": null,
   "metadata": {},
   "outputs": [],
   "source": []
  }
 ],
 "metadata": {
  "kernelspec": {
   "display_name": "Python 3",
   "language": "python",
   "name": "python3"
  },
  "language_info": {
   "codemirror_mode": {
    "name": "ipython",
    "version": 3
   },
   "file_extension": ".py",
   "mimetype": "text/x-python",
   "name": "python",
   "nbconvert_exporter": "python",
   "pygments_lexer": "ipython3",
   "version": "3.6.8"
  }
 },
 "nbformat": 4,
 "nbformat_minor": 2
}
